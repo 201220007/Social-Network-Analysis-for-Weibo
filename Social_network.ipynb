{
 "cells": [
  {
   "metadata": {},
   "cell_type": "markdown",
   "source": "# Example to compute pagerank\n",
   "id": "640d5a872a92c28f"
  },
  {
   "metadata": {
    "ExecuteTime": {
     "end_time": "2025-04-09T05:42:44.857586Z",
     "start_time": "2025-04-09T05:42:44.557910Z"
    }
   },
   "cell_type": "code",
   "source": [
    "import igraph as ig\n",
    "import numpy as np\n",
    "\n",
    "# generate graph with 100000 nodes\n",
    "num_nodes = 100_000\n",
    "edges_per_node = 10\n",
    "\n",
    "# randomly generate the edges with weight\n",
    "sources = np.repeat(np.arange(num_nodes), edges_per_node)\n",
    "targets = np.random.randint(0, num_nodes, size=num_nodes * edges_per_node)\n",
    "weights = np.random.randint(1, 6, size=num_nodes * edges_per_node)  # 点赞次数1~5\n",
    "\n",
    "g = ig.Graph(directed=True)\n",
    "g.add_vertices(num_nodes)\n",
    "g.add_edges(zip(sources, targets))\n",
    "g.es[\"weight\"] = weights\n",
    "\n",
    "# compute pagerank\n",
    "pagerank_scores = g.pagerank(weights=g.es[\"weight\"])\n",
    "\n",
    "# sort\n",
    "user_ranks = sorted(enumerate(pagerank_scores), key=lambda x: x[1], reverse=True)\n",
    "\n",
    "# print the first 10 users with high influence\n",
    "print(\"Top 10 Most Influential Users (by PageRank):\")\n",
    "for rank, (user_id, score) in enumerate(user_ranks[:10], start=1):\n",
    "    print(f\"Rank {rank}: User {user_id} - Influence Score: {score:.8f}\")"
   ],
   "id": "d462a986ec57cad2",
   "outputs": [
    {
     "name": "stdout",
     "output_type": "stream",
     "text": [
      "Top 10 Most Influential Users (by PageRank):\n",
      "Rank 1: User 9477 - Influence Score: 0.00002423\n",
      "Rank 2: User 37577 - Influence Score: 0.00002412\n",
      "Rank 3: User 57260 - Influence Score: 0.00002357\n",
      "Rank 4: User 1084 - Influence Score: 0.00002305\n",
      "Rank 5: User 47758 - Influence Score: 0.00002294\n",
      "Rank 6: User 31935 - Influence Score: 0.00002291\n",
      "Rank 7: User 23528 - Influence Score: 0.00002281\n",
      "Rank 8: User 30329 - Influence Score: 0.00002279\n",
      "Rank 9: User 8289 - Influence Score: 0.00002255\n",
      "Rank 10: User 19571 - Influence Score: 0.00002240\n"
     ]
    }
   ],
   "execution_count": 4
  },
  {
   "metadata": {},
   "cell_type": "code",
   "outputs": [],
   "execution_count": null,
   "source": "",
   "id": "4fa8aad352f3e0fb"
  }
 ],
 "metadata": {
  "kernelspec": {
   "display_name": "Python 3",
   "language": "python",
   "name": "python3"
  },
  "language_info": {
   "codemirror_mode": {
    "name": "ipython",
    "version": 2
   },
   "file_extension": ".py",
   "mimetype": "text/x-python",
   "name": "python",
   "nbconvert_exporter": "python",
   "pygments_lexer": "ipython2",
   "version": "2.7.6"
  }
 },
 "nbformat": 4,
 "nbformat_minor": 5
}
